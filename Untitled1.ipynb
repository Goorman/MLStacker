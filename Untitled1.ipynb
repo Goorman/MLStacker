{
 "cells": [
  {
   "cell_type": "code",
   "execution_count": 1,
   "metadata": {},
   "outputs": [],
   "source": [
    "%load_ext autoreload\n",
    "%autoreload 2"
   ]
  },
  {
   "cell_type": "code",
   "execution_count": 2,
   "metadata": {
    "collapsed": true
   },
   "outputs": [],
   "source": [
    "import seaborn\n",
    "import matplotlib.pyplot as plt\n",
    "import matplotlib\n",
    "import re"
   ]
  },
  {
   "cell_type": "code",
   "execution_count": 3,
   "metadata": {
    "collapsed": true
   },
   "outputs": [],
   "source": [
    "%matplotlib inline"
   ]
  },
  {
   "cell_type": "code",
   "execution_count": 4,
   "metadata": {
    "collapsed": true
   },
   "outputs": [],
   "source": [
    "import pandas as pd \n",
    "import numpy as np\n",
    "from collections import defaultdict"
   ]
  },
  {
   "cell_type": "code",
   "execution_count": 5,
   "metadata": {},
   "outputs": [],
   "source": [
    "from tqdm import tqdm\n",
    "from tqdm import tqdm_notebook"
   ]
  },
  {
   "cell_type": "code",
   "execution_count": 6,
   "metadata": {},
   "outputs": [],
   "source": [
    "from xgboost import XGBClassifier"
   ]
  },
  {
   "cell_type": "code",
   "execution_count": 7,
   "metadata": {
    "collapsed": true
   },
   "outputs": [],
   "source": [
    "from sklearn.linear_model import LogisticRegression"
   ]
  },
  {
   "cell_type": "code",
   "execution_count": 85,
   "metadata": {
    "collapsed": true
   },
   "outputs": [],
   "source": [
    "from sklearn.metrics import roc_curve"
   ]
  },
  {
   "cell_type": "code",
   "execution_count": null,
   "metadata": {
    "collapsed": true
   },
   "outputs": [],
   "source": []
  },
  {
   "cell_type": "code",
   "execution_count": 8,
   "metadata": {},
   "outputs": [],
   "source": [
    "from model import *\n",
    "from transformers import *\n",
    "from quality import *"
   ]
  },
  {
   "cell_type": "code",
   "execution_count": 9,
   "metadata": {
    "collapsed": true
   },
   "outputs": [],
   "source": [
    "train = pd.read_csv(\"ml5/train.csv\", sep=\";\")\n",
    "test = pd.read_csv(\"ml5/test.csv\", sep=\";\")\n",
    "test[\"smoke\"] = test[\"smoke\"].apply(lambda x: np.nan if (x == \"None\")  else int(x))\n",
    "test[\"alco\"] = test[\"alco\"].apply(lambda x: np.nan if (x == \"None\")  else int(x))\n",
    "test[\"active\"] = test[\"active\"].apply(lambda x: np.nan if (x == \"None\")  else int(x))"
   ]
  },
  {
   "cell_type": "code",
   "execution_count": 10,
   "metadata": {
    "collapsed": true
   },
   "outputs": [],
   "source": [
    "def clone_nans(df, features):\n",
    "    for feature in features:\n",
    "        df1 = df[~df[feature].isnull()].copy()\n",
    "        df2 = df[df[feature].isnull()].copy()\n",
    "        df3 = df2.copy()\n",
    "        df2[feature] = np.zeros(df2.shape[0])\n",
    "        df3[feature] = np.ones(df3.shape[0])\n",
    "        df = pd.concat([df1, df2, df3])\n",
    "        \n",
    "    return df\n",
    "test2 = clone_nans(test, [\"smoke\", \"alco\", \"active\"])"
   ]
  },
  {
   "cell_type": "code",
   "execution_count": null,
   "metadata": {
    "collapsed": true
   },
   "outputs": [],
   "source": []
  },
  {
   "cell_type": "code",
   "execution_count": 11,
   "metadata": {},
   "outputs": [],
   "source": [
    "ml = Model(train, test2, \"cardio\")"
   ]
  },
  {
   "cell_type": "code",
   "execution_count": 12,
   "metadata": {},
   "outputs": [],
   "source": [
    "def ap_lo_func(x, axis):\n",
    "    if x == 0:\n",
    "        return 40\n",
    "    elif x < 20:\n",
    "        return 10 * x\n",
    "    elif x < 300:\n",
    "        return x\n",
    "    elif x < 2000:\n",
    "        return x * 1.0 / 10\n",
    "    else:\n",
    "        return x * 1.0 / 100"
   ]
  },
  {
   "cell_type": "code",
   "execution_count": 13,
   "metadata": {},
   "outputs": [],
   "source": [
    "def ap_hi_func(x, axis):\n",
    "    if x < 0:\n",
    "        return - x\n",
    "    elif x < 20:\n",
    "        return x * 10\n",
    "    elif x < 500:\n",
    "        return x\n",
    "    elif x <= 2000:\n",
    "        return x * 1.0 / 10\n",
    "    else:\n",
    "        return x * 1.0 / 100"
   ]
  },
  {
   "cell_type": "code",
   "execution_count": 14,
   "metadata": {
    "collapsed": true
   },
   "outputs": [],
   "source": [
    "def days_to_year(x, axis):\n",
    "    return x * 1.0 / 365"
   ]
  },
  {
   "cell_type": "code",
   "execution_count": 32,
   "metadata": {},
   "outputs": [],
   "source": [
    "ml.remove_step(\"aplopr\")\n",
    "ml.add_step(\"aplopr\", custom_transformer(ap_lo_func, [\"ap_lo\"], \"aplopr\"))"
   ]
  },
  {
   "cell_type": "code",
   "execution_count": 33,
   "metadata": {},
   "outputs": [],
   "source": [
    "ml.remove_step(\"aphipr\")\n",
    "ml.add_step(\"aphipr\", custom_transformer(ap_hi_func, [\"ap_hi\"], \"aphipr\"))"
   ]
  },
  {
   "cell_type": "code",
   "execution_count": 34,
   "metadata": {},
   "outputs": [],
   "source": [
    "ml.remove_step(\"year\")\n",
    "ml.add_step(\"year\", custom_transformer(days_to_year, [\"age\"], \"year\"))"
   ]
  },
  {
   "cell_type": "code",
   "execution_count": null,
   "metadata": {
    "collapsed": true
   },
   "outputs": [],
   "source": []
  },
  {
   "cell_type": "code",
   "execution_count": 35,
   "metadata": {},
   "outputs": [],
   "source": [
    "ml.compute_step(\"aplopr\")"
   ]
  },
  {
   "cell_type": "code",
   "execution_count": 36,
   "metadata": {
    "collapsed": true
   },
   "outputs": [],
   "source": [
    "ml.compute_step(\"aphipr\")"
   ]
  },
  {
   "cell_type": "code",
   "execution_count": 37,
   "metadata": {
    "collapsed": true
   },
   "outputs": [],
   "source": [
    "ml.compute_step(\"year\")"
   ]
  },
  {
   "cell_type": "code",
   "execution_count": 38,
   "metadata": {},
   "outputs": [
    {
     "data": {
      "text/plain": [
       "Index([u'id', u'age', u'gender', u'height', u'weight', u'ap_hi', u'ap_lo',\n",
       "       u'cholesterol', u'gluc', u'smoke', u'alco', u'active', u'cardio',\n",
       "       u'aplopr', u'aphipr', u'year'],\n",
       "      dtype='object')"
      ]
     },
     "execution_count": 38,
     "metadata": {},
     "output_type": "execute_result"
    }
   ],
   "source": [
    "ml.train.columns"
   ]
  },
  {
   "cell_type": "code",
   "execution_count": null,
   "metadata": {
    "collapsed": true
   },
   "outputs": [],
   "source": []
  },
  {
   "cell_type": "code",
   "execution_count": 39,
   "metadata": {
    "collapsed": true
   },
   "outputs": [],
   "source": [
    "fl = [\"year\", \"gender\", \"height\", \"weight\", \"aphipr\", \"aplopr\", \"cholesterol\", \"gluc\", \"smoke\", \"alco\", \"active\"]"
   ]
  },
  {
   "cell_type": "code",
   "execution_count": 40,
   "metadata": {},
   "outputs": [
    {
     "name": "stdout",
     "output_type": "stream",
     "text": [
      "Trying to remove undefined step lr_s1.\n"
     ]
    }
   ],
   "source": [
    "lrclf_params_1 = {\"C\": 0.4, \"n_jobs\" : -1, \"penalty\": \"l2\"}\n",
    "ml.remove_step(\"lr_s1\")\n",
    "ml.add_step(\"lr_s1\", logreg_stacking(fl, \"cardio\", lrclf_params_1, 10, \"lr_s1\"), prerequisites = [\"source\"])"
   ]
  },
  {
   "cell_type": "code",
   "execution_count": 41,
   "metadata": {},
   "outputs": [
    {
     "data": {
      "application/vnd.jupyter.widget-view+json": {
       "model_id": "77be0baddfd345db9a00b9b041564e18"
      }
     },
     "metadata": {},
     "output_type": "display_data"
    },
    {
     "name": "stdout",
     "output_type": "stream",
     "text": [
      "\n"
     ]
    }
   ],
   "source": [
    "ml.compute_step(\"lr_s1\")"
   ]
  },
  {
   "cell_type": "code",
   "execution_count": 42,
   "metadata": {},
   "outputs": [
    {
     "data": {
      "text/plain": [
       "1.1704722949703514"
      ]
     },
     "execution_count": 42,
     "metadata": {},
     "output_type": "execute_result"
    }
   ],
   "source": [
    "measure_logloss(ml, \"train\", \"cardio\", \"lr_s1\")"
   ]
  },
  {
   "cell_type": "code",
   "execution_count": null,
   "metadata": {
    "collapsed": true
   },
   "outputs": [],
   "source": []
  },
  {
   "cell_type": "code",
   "execution_count": 43,
   "metadata": {},
   "outputs": [
    {
     "name": "stdout",
     "output_type": "stream",
     "text": [
      "Trying to remove undefined step mulf1.\n"
     ]
    }
   ],
   "source": [
    "ml.remove_step(\"mulf1\")\n",
    "ml.add_step(\"mulf1\", multiplication_transformer([\"year\", \"height\", \"weight\", \"aphipr\", \"aplopr\"], [-2, -1, 2], 1, \"mulf1\"), prerequisites = [\"year\", \"aphipr\", \"aplopr\"])"
   ]
  },
  {
   "cell_type": "code",
   "execution_count": 44,
   "metadata": {},
   "outputs": [
    {
     "name": "stdout",
     "output_type": "stream",
     "text": [
      "Trying to remove undefined step mulf2.\n"
     ]
    }
   ],
   "source": [
    "ml.remove_step(\"mulf2\")\n",
    "ml.add_step(\"mulf2\", multiplication_transformer([\"year\", \"height\", \"weight\", \"aphipr\", \"aplopr\"], [-2, -1, 1, 2], 2, \"mulf2\"), prerequisites = [\"year\", \"aphipr\", \"aplopr\"])"
   ]
  },
  {
   "cell_type": "code",
   "execution_count": 45,
   "metadata": {},
   "outputs": [
    {
     "name": "stdout",
     "output_type": "stream",
     "text": [
      "Trying to remove undefined step mulf3.\n"
     ]
    }
   ],
   "source": [
    "ml.remove_step(\"mulf3\")\n",
    "ml.add_step(\"mulf3\", multiplication_transformer([\"year\", \"height\", \"weight\", \"aphipr\", \"aplopr\"], [-1, 1], 3, \"mulf3\"), prerequisites = [\"year\", \"aphipr\", \"aplopr\"])"
   ]
  },
  {
   "cell_type": "code",
   "execution_count": 46,
   "metadata": {},
   "outputs": [],
   "source": [
    "ml.compute_step(\"mulf1\")"
   ]
  },
  {
   "cell_type": "code",
   "execution_count": 47,
   "metadata": {},
   "outputs": [],
   "source": [
    "ml.compute_step(\"mulf2\")"
   ]
  },
  {
   "cell_type": "code",
   "execution_count": 48,
   "metadata": {
    "collapsed": true
   },
   "outputs": [],
   "source": [
    "ml.compute_step(\"mulf3\")"
   ]
  },
  {
   "cell_type": "code",
   "execution_count": 50,
   "metadata": {},
   "outputs": [],
   "source": [
    "fl_lr2 = fl + ml.get_step_columns([\"mulf1\", \"mulf2\", \"mulf3\"])\n",
    "lrclf_params_1 = {\"C\": 0.4, \"n_jobs\" : -1, \"penalty\": \"l2\"}"
   ]
  },
  {
   "cell_type": "code",
   "execution_count": 51,
   "metadata": {},
   "outputs": [
    {
     "name": "stdout",
     "output_type": "stream",
     "text": [
      "Trying to remove undefined step lr_s2.\n"
     ]
    }
   ],
   "source": [
    "ml.remove_step(\"lr_s2\")\n",
    "ml.add_step(\"lr_s2\", logreg_stacking(fl_lr2, \"cardio\", lrclf_params_1, 10, \"lr_s2\"), prerequisites = [\"mulf1\", \"mulf2\", \"mulf3\"])"
   ]
  },
  {
   "cell_type": "code",
   "execution_count": 52,
   "metadata": {
    "collapsed": true
   },
   "outputs": [],
   "source": [
    "fl_lr2 = fl + ml.get_step_columns([\"mulf1\", \"mulf2\", \"mulf3\"])\n",
    "lrclf_params_2 = {\"C\": 0.2, \"n_jobs\" : -1, \"penalty\": \"l2\"}"
   ]
  },
  {
   "cell_type": "code",
   "execution_count": 53,
   "metadata": {},
   "outputs": [
    {
     "name": "stdout",
     "output_type": "stream",
     "text": [
      "Trying to remove undefined step lr_s3.\n"
     ]
    }
   ],
   "source": [
    "ml.remove_step(\"lr_s3\")\n",
    "ml.add_step(\"lr_s3\", logreg_stacking(fl_lr2, \"cardio\", lrclf_params_2, 10, \"lr_s3\"), prerequisites = [\"mulf1\", \"mulf2\", \"mulf3\"])"
   ]
  },
  {
   "cell_type": "code",
   "execution_count": 54,
   "metadata": {},
   "outputs": [
    {
     "data": {
      "application/vnd.jupyter.widget-view+json": {
       "model_id": "9951310834a54b149e5943f202b8bbcc"
      }
     },
     "metadata": {},
     "output_type": "display_data"
    },
    {
     "name": "stdout",
     "output_type": "stream",
     "text": [
      "\n"
     ]
    },
    {
     "data": {
      "application/vnd.jupyter.widget-view+json": {
       "model_id": "df4109115e064204a2acdafa75778ce0"
      }
     },
     "metadata": {},
     "output_type": "display_data"
    },
    {
     "name": "stdout",
     "output_type": "stream",
     "text": [
      "\n"
     ]
    }
   ],
   "source": [
    "ml.compute_step(\"lr_s3\")\n",
    "ml.compute_step(\"lr_s2\")"
   ]
  },
  {
   "cell_type": "code",
   "execution_count": 58,
   "metadata": {},
   "outputs": [
    {
     "data": {
      "text/html": [
       "<div>\n",
       "<style>\n",
       "    .dataframe thead tr:only-child th {\n",
       "        text-align: right;\n",
       "    }\n",
       "\n",
       "    .dataframe thead th {\n",
       "        text-align: left;\n",
       "    }\n",
       "\n",
       "    .dataframe tbody tr th {\n",
       "        vertical-align: top;\n",
       "    }\n",
       "</style>\n",
       "<table border=\"1\" class=\"dataframe\">\n",
       "  <thead>\n",
       "    <tr style=\"text-align: right;\">\n",
       "      <th></th>\n",
       "      <th>mulf1_15</th>\n",
       "      <th>mulf1_14</th>\n",
       "      <th>mulf1_13</th>\n",
       "      <th>mulf1_12</th>\n",
       "      <th>mulf1_11</th>\n",
       "      <th>mulf1_10</th>\n",
       "      <th>mulf1_9</th>\n",
       "      <th>mulf1_8</th>\n",
       "      <th>mulf1_3</th>\n",
       "      <th>mulf1_2</th>\n",
       "      <th>mulf1_1</th>\n",
       "      <th>mulf1_7</th>\n",
       "      <th>mulf1_6</th>\n",
       "      <th>mulf1_5</th>\n",
       "      <th>mulf1_4</th>\n",
       "    </tr>\n",
       "  </thead>\n",
       "  <tbody>\n",
       "    <tr>\n",
       "      <th>0</th>\n",
       "      <td>6400.0</td>\n",
       "      <td>0.012500</td>\n",
       "      <td>0.000156</td>\n",
       "      <td>12100.0</td>\n",
       "      <td>0.009091</td>\n",
       "      <td>0.000083</td>\n",
       "      <td>3844.0</td>\n",
       "      <td>0.016129</td>\n",
       "      <td>2539.331574</td>\n",
       "      <td>0.019845</td>\n",
       "      <td>0.000394</td>\n",
       "      <td>0.000260</td>\n",
       "      <td>28224.0</td>\n",
       "      <td>0.005952</td>\n",
       "      <td>0.000035</td>\n",
       "    </tr>\n",
       "    <tr>\n",
       "      <th>1</th>\n",
       "      <td>8100.0</td>\n",
       "      <td>0.011111</td>\n",
       "      <td>0.000123</td>\n",
       "      <td>19600.0</td>\n",
       "      <td>0.007143</td>\n",
       "      <td>0.000051</td>\n",
       "      <td>7225.0</td>\n",
       "      <td>0.011765</td>\n",
       "      <td>3071.285299</td>\n",
       "      <td>0.018044</td>\n",
       "      <td>0.000326</td>\n",
       "      <td>0.000138</td>\n",
       "      <td>24336.0</td>\n",
       "      <td>0.006410</td>\n",
       "      <td>0.000041</td>\n",
       "    </tr>\n",
       "    <tr>\n",
       "      <th>2</th>\n",
       "      <td>4900.0</td>\n",
       "      <td>0.014286</td>\n",
       "      <td>0.000204</td>\n",
       "      <td>16900.0</td>\n",
       "      <td>0.007692</td>\n",
       "      <td>0.000059</td>\n",
       "      <td>4096.0</td>\n",
       "      <td>0.015625</td>\n",
       "      <td>2669.066984</td>\n",
       "      <td>0.019356</td>\n",
       "      <td>0.000375</td>\n",
       "      <td>0.000244</td>\n",
       "      <td>27225.0</td>\n",
       "      <td>0.006061</td>\n",
       "      <td>0.000037</td>\n",
       "    </tr>\n",
       "    <tr>\n",
       "      <th>3</th>\n",
       "      <td>10000.0</td>\n",
       "      <td>0.010000</td>\n",
       "      <td>0.000100</td>\n",
       "      <td>22500.0</td>\n",
       "      <td>0.006667</td>\n",
       "      <td>0.000044</td>\n",
       "      <td>6724.0</td>\n",
       "      <td>0.012195</td>\n",
       "      <td>2331.170043</td>\n",
       "      <td>0.020712</td>\n",
       "      <td>0.000429</td>\n",
       "      <td>0.000149</td>\n",
       "      <td>28561.0</td>\n",
       "      <td>0.005917</td>\n",
       "      <td>0.000035</td>\n",
       "    </tr>\n",
       "    <tr>\n",
       "      <th>4</th>\n",
       "      <td>3600.0</td>\n",
       "      <td>0.016667</td>\n",
       "      <td>0.000278</td>\n",
       "      <td>10000.0</td>\n",
       "      <td>0.010000</td>\n",
       "      <td>0.000100</td>\n",
       "      <td>3136.0</td>\n",
       "      <td>0.017857</td>\n",
       "      <td>2291.917253</td>\n",
       "      <td>0.020888</td>\n",
       "      <td>0.000436</td>\n",
       "      <td>0.000319</td>\n",
       "      <td>24336.0</td>\n",
       "      <td>0.006410</td>\n",
       "      <td>0.000041</td>\n",
       "    </tr>\n",
       "  </tbody>\n",
       "</table>\n",
       "</div>"
      ],
      "text/plain": [
       "   mulf1_15  mulf1_14  mulf1_13  mulf1_12  mulf1_11  mulf1_10  mulf1_9  \\\n",
       "0    6400.0  0.012500  0.000156   12100.0  0.009091  0.000083   3844.0   \n",
       "1    8100.0  0.011111  0.000123   19600.0  0.007143  0.000051   7225.0   \n",
       "2    4900.0  0.014286  0.000204   16900.0  0.007692  0.000059   4096.0   \n",
       "3   10000.0  0.010000  0.000100   22500.0  0.006667  0.000044   6724.0   \n",
       "4    3600.0  0.016667  0.000278   10000.0  0.010000  0.000100   3136.0   \n",
       "\n",
       "    mulf1_8      mulf1_3   mulf1_2   mulf1_1   mulf1_7  mulf1_6   mulf1_5  \\\n",
       "0  0.016129  2539.331574  0.019845  0.000394  0.000260  28224.0  0.005952   \n",
       "1  0.011765  3071.285299  0.018044  0.000326  0.000138  24336.0  0.006410   \n",
       "2  0.015625  2669.066984  0.019356  0.000375  0.000244  27225.0  0.006061   \n",
       "3  0.012195  2331.170043  0.020712  0.000429  0.000149  28561.0  0.005917   \n",
       "4  0.017857  2291.917253  0.020888  0.000436  0.000319  24336.0  0.006410   \n",
       "\n",
       "    mulf1_4  \n",
       "0  0.000035  \n",
       "1  0.000041  \n",
       "2  0.000037  \n",
       "3  0.000035  \n",
       "4  0.000041  "
      ]
     },
     "execution_count": 58,
     "metadata": {},
     "output_type": "execute_result"
    }
   ],
   "source": [
    "ml.train[ml.get_step_columns(\"mulf1\")].head()"
   ]
  },
  {
   "cell_type": "code",
   "execution_count": 55,
   "metadata": {},
   "outputs": [
    {
     "data": {
      "text/plain": [
       "1.1625293957026694"
      ]
     },
     "execution_count": 55,
     "metadata": {},
     "output_type": "execute_result"
    }
   ],
   "source": [
    "measure_logloss(ml, \"train\", \"cardio\", \"lr_s2\")"
   ]
  },
  {
   "cell_type": "code",
   "execution_count": 56,
   "metadata": {},
   "outputs": [
    {
     "data": {
      "text/plain": [
       "1.1605889333734691"
      ]
     },
     "execution_count": 56,
     "metadata": {},
     "output_type": "execute_result"
    }
   ],
   "source": [
    "measure_logloss(ml, \"train\", \"cardio\", \"lr_s3\")"
   ]
  },
  {
   "cell_type": "code",
   "execution_count": 88,
   "metadata": {},
   "outputs": [],
   "source": [
    "ml.remove_step(\"xgb1\")\n",
    "ml.add_step(\"xgb1\", xgb_prediction(fl_lr2, \"cardio\", {}, \"xgb1\"), prerequisites = [\"mulf1\", \"mulf2\", \"mulf3\"])"
   ]
  },
  {
   "cell_type": "code",
   "execution_count": 89,
   "metadata": {
    "scrolled": true
   },
   "outputs": [
    {
     "name": "stdout",
     "output_type": "stream",
     "text": [
      "[0]\tvalidation_0-logloss:0.668738\n",
      "[1]\tvalidation_0-logloss:0.648861\n",
      "[2]\tvalidation_0-logloss:0.632322\n",
      "[3]\tvalidation_0-logloss:0.618659\n",
      "[4]\tvalidation_0-logloss:0.607113\n",
      "[5]\tvalidation_0-logloss:0.59758\n",
      "[6]\tvalidation_0-logloss:0.58959\n",
      "[7]\tvalidation_0-logloss:0.582776\n",
      "[8]\tvalidation_0-logloss:0.576984\n",
      "[9]\tvalidation_0-logloss:0.57201\n",
      "[10]\tvalidation_0-logloss:0.567654\n",
      "[11]\tvalidation_0-logloss:0.563927\n",
      "[12]\tvalidation_0-logloss:0.560777\n",
      "[13]\tvalidation_0-logloss:0.558075\n",
      "[14]\tvalidation_0-logloss:0.555792\n",
      "[15]\tvalidation_0-logloss:0.553741\n",
      "[16]\tvalidation_0-logloss:0.551976\n",
      "[17]\tvalidation_0-logloss:0.550428\n",
      "[18]\tvalidation_0-logloss:0.549116\n",
      "[19]\tvalidation_0-logloss:0.547851\n",
      "[20]\tvalidation_0-logloss:0.546771\n",
      "[21]\tvalidation_0-logloss:0.545753\n",
      "[22]\tvalidation_0-logloss:0.544932\n",
      "[23]\tvalidation_0-logloss:0.54421\n",
      "[24]\tvalidation_0-logloss:0.543506\n",
      "[25]\tvalidation_0-logloss:0.542903\n",
      "[26]\tvalidation_0-logloss:0.542388\n",
      "[27]\tvalidation_0-logloss:0.541907\n",
      "[28]\tvalidation_0-logloss:0.541478\n",
      "[29]\tvalidation_0-logloss:0.541013\n",
      "[30]\tvalidation_0-logloss:0.540648\n",
      "[31]\tvalidation_0-logloss:0.540285\n",
      "[32]\tvalidation_0-logloss:0.539989\n",
      "[33]\tvalidation_0-logloss:0.539644\n",
      "[34]\tvalidation_0-logloss:0.539378\n",
      "[35]\tvalidation_0-logloss:0.539131\n",
      "[36]\tvalidation_0-logloss:0.538907\n",
      "[37]\tvalidation_0-logloss:0.538675\n",
      "[38]\tvalidation_0-logloss:0.538492\n",
      "[39]\tvalidation_0-logloss:0.53832\n",
      "[40]\tvalidation_0-logloss:0.538069\n",
      "[41]\tvalidation_0-logloss:0.53788\n",
      "[42]\tvalidation_0-logloss:0.537706\n",
      "[43]\tvalidation_0-logloss:0.537525\n",
      "[44]\tvalidation_0-logloss:0.537338\n",
      "[45]\tvalidation_0-logloss:0.537201\n",
      "[46]\tvalidation_0-logloss:0.537037\n",
      "[47]\tvalidation_0-logloss:0.536873\n",
      "[48]\tvalidation_0-logloss:0.536719\n",
      "[49]\tvalidation_0-logloss:0.53659\n",
      "[50]\tvalidation_0-logloss:0.536443\n",
      "[51]\tvalidation_0-logloss:0.53634\n",
      "[52]\tvalidation_0-logloss:0.536218\n",
      "[53]\tvalidation_0-logloss:0.536132\n",
      "[54]\tvalidation_0-logloss:0.536\n",
      "[55]\tvalidation_0-logloss:0.53588\n",
      "[56]\tvalidation_0-logloss:0.53575\n",
      "[57]\tvalidation_0-logloss:0.535646\n",
      "[58]\tvalidation_0-logloss:0.535523\n",
      "[59]\tvalidation_0-logloss:0.535404\n",
      "[60]\tvalidation_0-logloss:0.535303\n",
      "[61]\tvalidation_0-logloss:0.535225\n",
      "[62]\tvalidation_0-logloss:0.535118\n",
      "[63]\tvalidation_0-logloss:0.535069\n",
      "[64]\tvalidation_0-logloss:0.534925\n",
      "[65]\tvalidation_0-logloss:0.534861\n",
      "[66]\tvalidation_0-logloss:0.534773\n",
      "[67]\tvalidation_0-logloss:0.53473\n",
      "[68]\tvalidation_0-logloss:0.534614\n",
      "[69]\tvalidation_0-logloss:0.534543\n",
      "[70]\tvalidation_0-logloss:0.534437\n",
      "[71]\tvalidation_0-logloss:0.534337\n",
      "[72]\tvalidation_0-logloss:0.534237\n",
      "[73]\tvalidation_0-logloss:0.534076\n",
      "[74]\tvalidation_0-logloss:0.534018\n",
      "[75]\tvalidation_0-logloss:0.533961\n",
      "[76]\tvalidation_0-logloss:0.533891\n",
      "[77]\tvalidation_0-logloss:0.533824\n",
      "[78]\tvalidation_0-logloss:0.533738\n",
      "[79]\tvalidation_0-logloss:0.533663\n",
      "[80]\tvalidation_0-logloss:0.533581\n",
      "[81]\tvalidation_0-logloss:0.533491\n",
      "[82]\tvalidation_0-logloss:0.533363\n",
      "[83]\tvalidation_0-logloss:0.53332\n",
      "[84]\tvalidation_0-logloss:0.533257\n",
      "[85]\tvalidation_0-logloss:0.533177\n",
      "[86]\tvalidation_0-logloss:0.533107\n",
      "[87]\tvalidation_0-logloss:0.533021\n",
      "[88]\tvalidation_0-logloss:0.532915\n",
      "[89]\tvalidation_0-logloss:0.532878\n",
      "[90]\tvalidation_0-logloss:0.532822\n",
      "[91]\tvalidation_0-logloss:0.53276\n",
      "[92]\tvalidation_0-logloss:0.532668\n",
      "[93]\tvalidation_0-logloss:0.53257\n",
      "[94]\tvalidation_0-logloss:0.532512\n",
      "[95]\tvalidation_0-logloss:0.532439\n",
      "[96]\tvalidation_0-logloss:0.532404\n",
      "[97]\tvalidation_0-logloss:0.532334\n",
      "[98]\tvalidation_0-logloss:0.53225\n",
      "[99]\tvalidation_0-logloss:0.532212\n"
     ]
    }
   ],
   "source": [
    "ml.compute_step(\"xgb1\")"
   ]
  },
  {
   "cell_type": "code",
   "execution_count": 95,
   "metadata": {},
   "outputs": [],
   "source": [
    "x = ml.test[[\"xgb1\", \"id\"]].groupby(\"id\").mean()"
   ]
  },
  {
   "cell_type": "code",
   "execution_count": 96,
   "metadata": {},
   "outputs": [
    {
     "data": {
      "text/plain": [
       "(30000, 1)"
      ]
     },
     "execution_count": 96,
     "metadata": {},
     "output_type": "execute_result"
    }
   ],
   "source": []
  },
  {
   "cell_type": "code",
   "execution_count": null,
   "metadata": {
    "collapsed": true
   },
   "outputs": [],
   "source": []
  }
 ],
 "metadata": {
  "kernelspec": {
   "display_name": "Python 2",
   "language": "python",
   "name": "python2"
  },
  "language_info": {
   "codemirror_mode": {
    "name": "ipython",
    "version": 2
   },
   "file_extension": ".py",
   "mimetype": "text/x-python",
   "name": "python",
   "nbconvert_exporter": "python",
   "pygments_lexer": "ipython2",
   "version": "2.7.13"
  }
 },
 "nbformat": 4,
 "nbformat_minor": 2
}
