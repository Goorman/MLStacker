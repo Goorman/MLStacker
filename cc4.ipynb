{
 "cells": [
  {
   "cell_type": "code",
   "execution_count": 1,
   "metadata": {},
   "outputs": [
    {
     "name": "stderr",
     "output_type": "stream",
     "text": [
      "/Users/GoormanMcBook/anaconda/lib/python2.7/site-packages/sklearn/cross_validation.py:44: DeprecationWarning: This module was deprecated in version 0.18 in favor of the model_selection module into which all the refactored classes and functions are moved. Also note that the interface of the new CV iterators are different from that of this module. This module will be removed in 0.20.\n",
      "  \"This module will be removed in 0.20.\", DeprecationWarning)\n"
     ]
    }
   ],
   "source": [
    "import pandas as pd \n",
    "from sklearn.preprocessing import OneHotEncoder\n",
    "from sklearn.preprocessing import Imputer\n",
    "from sklearn.feature_extraction import DictVectorizer\n",
    "from sklearn.preprocessing import LabelEncoder\n",
    "from sklearn.ensemble import RandomForestClassifier\n",
    "from sklearn.linear_model import LogisticRegression\n",
    "from tqdm import tqdm\n",
    "from tqdm import tqdm_notebook\n",
    "from sklearn.metrics import roc_auc_score\n",
    "from sklearn.metrics import log_loss\n",
    "from sklearn.preprocessing import StandardScaler\n",
    "from xgboost import XGBClassifier\n",
    "from scipy.stats import pearsonr\n",
    "from sklearn.tree import DecisionTreeClassifier\n",
    "import itertools\n",
    "from copy import copy\n",
    "import lightgbm as lgb\n",
    "import seaborn as sns\n",
    "from sklearn.model_selection import KFold\n",
    "from itertools import combinations\n",
    "import numpy as np\n",
    "from matplotlib import pyplot as plt"
   ]
  },
  {
   "cell_type": "code",
   "execution_count": 2,
   "metadata": {
    "collapsed": true
   },
   "outputs": [],
   "source": [
    "train = pd.read_csv(\"ml5/train.csv\", sep=\";\")\n",
    "test = pd.read_csv(\"ml5/test.csv\", sep=\";\")\n",
    "test[\"smoke\"] = test[\"smoke\"].apply(lambda x: np.nan if (x == \"None\")  else int(x))\n",
    "test[\"alco\"] = test[\"alco\"].apply(lambda x: np.nan if (x == \"None\")  else int(x))\n",
    "test[\"active\"] = test[\"active\"].apply(lambda x: np.nan if (x == \"None\")  else int(x))"
   ]
  },
  {
   "cell_type": "code",
   "execution_count": 3,
   "metadata": {
    "collapsed": true
   },
   "outputs": [],
   "source": [
    "def get_int_columns(columns_list):\n",
    "    int_columns = []\n",
    "    for f in columns_list:\n",
    "        if all(data_train[f].dropna().astype(\"int64\").astype(float) == data_train[f].dropna())\\\n",
    "           and (len(data_train[f].value_counts()) > 1):\n",
    "            int_columns.append(f)\n",
    "    return int_columns"
   ]
  },
  {
   "cell_type": "code",
   "execution_count": 4,
   "metadata": {},
   "outputs": [
    {
     "data": {
      "text/plain": [
       "Index([u'id', u'age', u'gender', u'height', u'weight', u'ap_hi', u'ap_lo',\n",
       "       u'cholesterol', u'gluc', u'smoke', u'alco', u'active', u'cardio'],\n",
       "      dtype='object')"
      ]
     },
     "execution_count": 4,
     "metadata": {},
     "output_type": "execute_result"
    }
   ],
   "source": [
    "train.columns"
   ]
  },
  {
   "cell_type": "code",
   "execution_count": 5,
   "metadata": {
    "collapsed": true
   },
   "outputs": [],
   "source": [
    "def null_outliers(df, c_list):\n",
    "    df = df.copy()\n",
    "    for c in c_list:\n",
    "        if len(df[c].value_counts()) != 2:\n",
    "            mean = df[c].mean()\n",
    "            std = df[c].std()\n",
    "            df.loc[np.abs(df[c]-mean)>(3.2*std), c] = np.nan\n",
    "    return df\n",
    "\n",
    "def process_table(df):\n",
    "    df = df.copy()\n",
    "    df = null_outliers(df, df.columns)\n",
    "    df[\"w2dh2\"] = df[\"weight\"] * df[\"weight\"] * 1.0 / (df[\"height\"] * df[\"height\"])\n",
    "    return df"
   ]
  },
  {
   "cell_type": "code",
   "execution_count": null,
   "metadata": {
    "collapsed": true
   },
   "outputs": [],
   "source": []
  },
  {
   "cell_type": "code",
   "execution_count": 6,
   "metadata": {
    "collapsed": true
   },
   "outputs": [],
   "source": [
    "def get_proba(d):\n",
    "    d = d.astype(float)\n",
    "    sum_v = sum(d.values)\n",
    "    for i in d.keys():\n",
    "        d[i] *= (1.0 / sum_v)\n",
    "    return d\n",
    "\n",
    "def find_best_val(val, d):\n",
    "    keys = d.keys()\n",
    "    best_val = keys[0]\n",
    "    min_dist = abs(d[keys[0]] - val)\n",
    "    for k in keys[1:]:\n",
    "        dist = abs(d[k] - val)\n",
    "        if dist < min_dist:\n",
    "            min_dist = dist\n",
    "            best_val = k\n",
    "    return best_val\n",
    "\n",
    "def get_bad_keys_dict(bad_keys, test_proba_dict, train_proba_dict):\n",
    "    bad_keys_dict = {}\n",
    "    for k in bad_keys:\n",
    "        bad_keys_dict[k] = find_best_val(test_proba_dict[k], train_proba_dict)\n",
    "    return bad_keys_dict"
   ]
  },
  {
   "cell_type": "code",
   "execution_count": 7,
   "metadata": {
    "collapsed": true
   },
   "outputs": [],
   "source": [
    "def get_categorical_features(train, test, c_columns):\n",
    "    train = train.copy()\n",
    "    test = test.copy()\n",
    "    for f in tqdm_notebook(c_columns):\n",
    "        train_d = get_proba(train[f].value_counts())\n",
    "        train.loc[train[f].isnull(), f] = np.random.choice(train_d.keys(), size = len(train[train[f].isnull()]), \n",
    "                                                           p=train_d.values)\n",
    "        \n",
    "        test.loc[test[f].isnull(), f] = np.random.choice(train_d.keys(), size = len(test[test[f].isnull()]), \n",
    "                                                           p=train_d.values)\n",
    "        test_d = get_proba(test[f].value_counts())\n",
    "        bad_keys = list(set(test_d.keys()).difference(set(train_d.keys())))\n",
    "        bad_keys_dict = get_bad_keys_dict(bad_keys, test_d, train_d)\n",
    "        test.loc[test[f].isin(bad_keys), f] = test.loc[test[f].isin(bad_keys), f].apply(lambda x: bad_keys_dict[x])\n",
    "        \n",
    "        le = LabelEncoder()\n",
    "        train[f] = le.fit_transform(train[f])\n",
    "        test[f] = le.transform(test[f])\n",
    "        \n",
    "        enc = OneHotEncoder(sparse=False)\n",
    "        o_f_train = enc.fit_transform(train[[f]])\n",
    "        o_f_test = enc.transform(test[[f]])\n",
    "        column_names = [f + \"_\" + str(i) for i in range(o_f_train.shape[1])]\n",
    "        df_t_train = pd.DataFrame(data=o_f_train, columns=column_names)\n",
    "        df_t_test = pd.DataFrame(data=o_f_test, columns=column_names)\n",
    "        train = train.join(df_t_train)\n",
    "        test = test.join(df_t_test)\n",
    "    return train, test"
   ]
  },
  {
   "cell_type": "code",
   "execution_count": 8,
   "metadata": {
    "collapsed": true
   },
   "outputs": [],
   "source": [
    "def get_numeric_features(train, test, n_list, log_f):\n",
    "    train = train.copy()\n",
    "    test = test.copy()\n",
    "    for f in n_list:\n",
    "        if (f in int_columns):\n",
    "            v_c = train[f].value_counts()\n",
    "            train_d = get_proba(v_c)\n",
    "            \n",
    "            train.loc[train[f].isnull(), f] = np.random.choice(train_d.keys(), size = len(train[train[f].isnull()]), \n",
    "                                                           p=train_d.values)\n",
    "            test.loc[test[f].isnull(), f] = np.random.choice(train_d.keys(), size = len(test[test[f].isnull()]), \n",
    "                                                           p=train_d.values)\n",
    "        else:\n",
    "            mean = train[f].astype(float).mean()\n",
    "            std  = train[f].astype(float).std()\n",
    "            min_f = train[f].min()\n",
    "            max_f = train[f].max()\n",
    "            train.loc[train[f].isnull(), f] = pd.Series(np.random.normal(mean, std, len(train[train[f].isnull()]))).clip(min_f ,max_f).values\n",
    "            test.loc[test[f].isnull(), f] = pd.Series(np.random.normal(mean, std, len(test[test[f].isnull()]))).clip(min_f, max_f).values\n",
    "        \n",
    "        if f in log_f:\n",
    "            max_train = -train[f].min() + 1\n",
    "            max_test = -test[f].min() + 1\n",
    "            train[\"log_\"+f] = train[f].apply(lambda x: np.log(x+max_train))\n",
    "            test[\"log_\"+f] = test[f].apply(lambda x: np.log(x+max_test))\n",
    "    \n",
    "    return train, test"
   ]
  },
  {
   "cell_type": "code",
   "execution_count": 9,
   "metadata": {
    "collapsed": true
   },
   "outputs": [],
   "source": [
    "def get_numeric_mean_nan(train, test, n_list, log_f):\n",
    "    train = train.copy()\n",
    "    test = test.copy()\n",
    "    for f in n_list:\n",
    "        mean = train[f].astype(float).mean()\n",
    "        train.loc[train[f].isnull(), f] = mean\n",
    "        test.loc[test[f].isnull(), f] = mean\n",
    "        if f in log_f:\n",
    "            min_total = min(train[f].min(), test[f].min())\n",
    "#            max_train = -train[f].min() + 1\n",
    "#            max_test = -test[f].min() + 1\n",
    "            train[\"log_\"+f] = train[f].apply(lambda x: np.log(x - min_total + 1))\n",
    "            test[\"log_\"+f] = test[f].apply(lambda x: np.log(x - min_total + 1))\n",
    "    \n",
    "    return train, test"
   ]
  },
  {
   "cell_type": "code",
   "execution_count": 10,
   "metadata": {
    "collapsed": true
   },
   "outputs": [],
   "source": [
    "def get_sp_bool_f(df, f):\n",
    "    df = df.copy()\n",
    "    for i, j in combinations(f, 2):\n",
    "        if i[:5] != j[:5]:\n",
    "            df[i+\"&\" +j] = df[i].astype(int) & df[j].astype(int)\n",
    "            df[i+\"|\" +j] = df[i].astype(int) | df[j].astype(int)\n",
    "            df[i+\"^\" +j] = df[i].astype(int) ^ df[j].astype(int)\n",
    "    return df\n",
    "\n",
    "def get_sp_num_f(df, f_list):\n",
    "    df = df.copy()\n",
    "    for f in f_list:\n",
    "        df[\"sqrt_\"+f] = np.sqrt(abs(df[f]))\n",
    "        df[\"sqr_\"+f] = df[f] * df[f]\n",
    "\n",
    "    for f1, f2 in tqdm_notebook(combinations(f_list, 2)):\n",
    "        if (f1 != (\"norm_\" + f2)) and (f2 != (\"norm_\" + f1)):\n",
    "            df[f1+\"_sub_\"+f2] = df[f1] - df[f2]\n",
    "            df[f1+\"_abs_dif_\"+f2] = df[f1] - df[f2]\n",
    "            df[f1+\"_sum_\"+f2] = df[f1] + df[f2] \n",
    "            df[f1+\"_mul_\"+f2] = df[f1] * df[f2]\n",
    "            if len(df[df[f2]==0]) * 1.0 / len(df) < 0.2:\n",
    "                df[f1+\"_div_\"+f2] = df[f1].astype(float) / df[f2]\n",
    "                df[f1+\"_div_\"+f2] = df[f1+\"_div_\"+f2].replace(np.inf, np.nan)\n",
    "                df[f1+\"_div_\"+f2] = df[f1+\"_div_\"+f2].fillna(0)\n",
    "                \n",
    "            if len(df[df[f1]==0]) * 1.0 / len(df) < 0.2:\n",
    "                df[f2+\"_div_\"+f1] = df[f2].astype(float) / df[f1]\n",
    "                df[f2+\"_div_\"+f1] = df[f2+\"_div_\"+f1].replace(np.inf, np.nan)\n",
    "                df[f2+\"_div_\"+f1] = df[f2+\"_div_\"+f1].fillna(0)\n",
    "                \n",
    "    return df"
   ]
  },
  {
   "cell_type": "code",
   "execution_count": 11,
   "metadata": {
    "collapsed": true
   },
   "outputs": [],
   "source": [
    "def check_c_column(column, c_column_names):\n",
    "    for c in c_column_names:\n",
    "        ind = column.find(c + \"_\")\n",
    "        if (ind == 0) and column[ind + len(c) + 1:].isdigit():\n",
    "            return True\n",
    "    return False"
   ]
  },
  {
   "cell_type": "code",
   "execution_count": 12,
   "metadata": {
    "collapsed": true
   },
   "outputs": [],
   "source": [
    "def create_features(train, test, c_columns, n_columns, sp_bin_f=[],\n",
    "                    sp_c_f=None, fill_mean=False,\n",
    "                    sp_n_f=None, log_f=[]):\n",
    "    \n",
    "    train = train.copy()\n",
    "    test = test.copy()\n",
    "    full_f = c_columns + n_columns\n",
    "    \n",
    "    train = train[full_f + [\"id\", \"cardio\"]]\n",
    "    \n",
    "    if \"target\" in test.columns:\n",
    "        test = test[full_f + [\"id\", \"cardio\"]]\n",
    "    else:\n",
    "        test = test[full_f + [\"id\"]]\n",
    "        \n",
    "    train, test = get_categorical_features(train, test, c_columns)\n",
    "\n",
    "    if not fill_mean:\n",
    "        train, test = get_numeric_features(train, test, n_columns, log_f)\n",
    "    else:\n",
    "        train, test = get_numeric_mean_nan(train, test, n_columns, log_f)\n",
    "    \n",
    "    sp_bin_f = list(copy(sp_bin_f))\n",
    "    \n",
    "    if sp_c_f is not None:  \n",
    "        sp_bin_f += [i for i in train.columns if check_c_column(i, sp_c_f)]\n",
    "        \n",
    "    if len(sp_bin_f) != 0:\n",
    "        sp_bin_f = list(set(sp_bin_f))\n",
    "        \n",
    "    if sp_bin_f is not None:\n",
    "        train = get_sp_bool_f(train, sp_bin_f)\n",
    "        test = get_sp_bool_f(test, sp_bin_f)\n",
    "      \n",
    "    if sp_n_f is not None:\n",
    "        train = get_sp_num_f(train, sp_n_f)\n",
    "        test = get_sp_num_f(test, sp_n_f)\n",
    "    \n",
    "    return train, test"
   ]
  },
  {
   "cell_type": "code",
   "execution_count": null,
   "metadata": {
    "collapsed": true
   },
   "outputs": [],
   "source": []
  },
  {
   "cell_type": "code",
   "execution_count": 13,
   "metadata": {
    "collapsed": true
   },
   "outputs": [],
   "source": [
    "def cv_tt(df, target, cv, c_f_list, n_list, sp_params={}):\n",
    "    tt = []\n",
    "    df = df.copy()\n",
    "    y = df[target]\n",
    "    data = df.copy()\n",
    "    \n",
    "    for itrain, itest in tqdm_notebook(cv, leave = False):\n",
    "        train_data = data.loc[itrain,:].copy()\n",
    "        test_data = data.loc[itest,:].copy()\n",
    "        train_data.reset_index(inplace=True)\n",
    "        test_data.reset_index(inplace=True)\n",
    "        train_data, test_data = create_features(train_data, test_data, c_f_list, n_list, **sp_params)\n",
    "        fold = {\"xtrain\" : train_data, \"ytrain\" : y[itrain], \n",
    "                \"xtest\" : test_data, \"ytest\" : y[itest]}\n",
    "        tt.append(fold)\n",
    "\n",
    "    return tt"
   ]
  },
  {
   "cell_type": "code",
   "execution_count": 14,
   "metadata": {
    "collapsed": true
   },
   "outputs": [],
   "source": [
    "def fit_predict(clf, xtrain, ytrain, xtest, ytest, clf_params, \n",
    "                fit_params, do_scaling, xgbfit, f_l):\n",
    "    if do_scaling:\n",
    "        scaler = StandardScaler()\n",
    "        xtrain = scaler.fit_transform(xtrain)\n",
    "        xtest = scaler.transform(xtest)\n",
    "        \n",
    "    if xgbfit:\n",
    "        if ytest is not None:\n",
    "            fit_params[\"eval_set\"] = \\\n",
    "                [(xtrain, ytrain), (xtest, ytest)]\n",
    "        else:\n",
    "            fit_params[\"eval_set\"] = [(xtrain, ytrain)]\n",
    "   \n",
    "    c = clf(**clf_params)\n",
    "    c.fit(xtrain, ytrain, **fit_params)\n",
    "    \n",
    "    p_tst = c.predict(xtest)\n",
    "    pr_tst = c.predict_proba(xtest)[:,1]\n",
    "    \n",
    "    if do_scaling:\n",
    "        a = c.coef_[0][c.coef_[0]!=0]\n",
    "        b = np.array(f_l)[c.coef_[0]!=0]\n",
    "        f_weights = sorted(zip(a, b), key = lambda x : abs(x[0]), reverse=True)\n",
    "    else:\n",
    "        a = c.feature_importances_[c.feature_importances_ !=0]\n",
    "        b = np.array(f_l)[c.feature_importances_ !=0]\n",
    "        f_weights = sorted(zip(a, b), key = lambda x : abs(x[0]), reverse=True)\n",
    "    \n",
    "    return f_weights, p_tst, pr_tst"
   ]
  },
  {
   "cell_type": "code",
   "execution_count": 15,
   "metadata": {
    "collapsed": true
   },
   "outputs": [],
   "source": [
    "def get_f(all_f, f_names):\n",
    "    f_l = []\n",
    "    for f in f_names:\n",
    "        for i in all_f:\n",
    "            if (i == f) and (f+\"_0\" not in all_f):\n",
    "                f_l.append(i)\n",
    "                break\n",
    "            else:\n",
    "                ind = i.find(f+\"_\")\n",
    "                if (ind == 0) and i[ind+len(f)+1:].isdigit():\n",
    "                    f_l.append(i)\n",
    "    return f_l"
   ]
  },
  {
   "cell_type": "code",
   "execution_count": 16,
   "metadata": {
    "collapsed": true
   },
   "outputs": [],
   "source": [
    "def get_prediction(train, test, f_names, clf_type, clf_params, fit_params, do_scaling, xgbfit, \n",
    "                   nnfit=False, lgbm=False, real_test=False):\n",
    "    y_train = train[\"cardio\"]\n",
    "    train_data = train.copy()\n",
    "    \n",
    "    if not real_test:\n",
    "        y_test = test[\"cardio\"]\n",
    "        test_data = test.copy()\n",
    "    else:\n",
    "        y_test = None\n",
    "        test_data = test.copy()\n",
    "    \n",
    "    all_f = list(train.columns)\n",
    "        \n",
    "    if lgbm:\n",
    "        f_l = f_names\n",
    "    else:\n",
    "        f_l = get_f(all_f, f_names)\n",
    "\n",
    "    f_weights, p_tst, pr_tst = fit_predict(clf_type, train_data[f_l], y_train, \n",
    "                test_data[f_l], y_test, clf_params, \n",
    "                fit_params, do_scaling, xgbfit, f_l)\n",
    "    if not real_test:\n",
    "        log_loss_score = log_loss(y_test, pr_tst)\n",
    "    else:\n",
    "        log_loss_score = None\n",
    "        \n",
    "    res = {\"p_test\" : p_tst, \n",
    "           \"pr_test\" : pr_tst, \n",
    "           \"log_loss\": log_loss_score,\n",
    "           \"f_weights\": f_weights}\n",
    "    \n",
    "    return res"
   ]
  },
  {
   "cell_type": "code",
   "execution_count": 17,
   "metadata": {
    "collapsed": true
   },
   "outputs": [],
   "source": [
    "def cv_fit_predict(clf, cv_tt, f_names, clf_params = {}, fit_params = {}, \n",
    "                   do_scaling = False, xgbfit = False, nnfit = False, lgbm = False):\n",
    "    cv_answer = []\n",
    "    \n",
    "    for fold in tqdm_notebook(cv_tt):\n",
    "        all_f = list(fold[\"xtrain\"].columns)\n",
    "        \n",
    "        if lgbm:\n",
    "            f_l = f_names\n",
    "        else:\n",
    "            f_l = get_f(all_f, f_names)\n",
    "        \n",
    "        f_weights, p_tst, pr_tst = fit_predict(clf, \n",
    "                                               fold[\"xtrain\"][f_l], fold[\"ytrain\"], \n",
    "                                               fold[\"xtest\"][f_l], fold[\"ytest\"], \n",
    "                                               clf_params, fit_params, do_scaling, xgbfit, f_l)\n",
    "        \n",
    "        log_loss_score = log_loss(fold[\"ytest\"], pr_tst)\n",
    "        print log_loss_score\n",
    "        tt_answer = {\"p_test\" : p_tst, \"pr_test\" : pr_tst, \n",
    "                     \"log_loss\": log_loss_score,\n",
    "                     \"f_weights\": f_weights}\n",
    "        cv_answer.append(tt_answer)\n",
    "    \n",
    "    return cv_answer"
   ]
  },
  {
   "cell_type": "code",
   "execution_count": null,
   "metadata": {
    "collapsed": true
   },
   "outputs": [],
   "source": []
  },
  {
   "cell_type": "code",
   "execution_count": 18,
   "metadata": {
    "collapsed": true
   },
   "outputs": [],
   "source": [
    "data_train = process_table(train)\n",
    "data_test = process_table(test)"
   ]
  },
  {
   "cell_type": "code",
   "execution_count": 19,
   "metadata": {
    "collapsed": true
   },
   "outputs": [],
   "source": [
    "int_columns = get_int_columns(data_train.columns)"
   ]
  },
  {
   "cell_type": "code",
   "execution_count": null,
   "metadata": {
    "collapsed": true
   },
   "outputs": [],
   "source": []
  },
  {
   "cell_type": "code",
   "execution_count": null,
   "metadata": {
    "collapsed": true
   },
   "outputs": [],
   "source": []
  },
  {
   "cell_type": "code",
   "execution_count": 20,
   "metadata": {
    "collapsed": true
   },
   "outputs": [],
   "source": [
    "categorical_f = [\"cholesterol\", \"gluc\"]\n",
    "bin_f = [\"gender\", \"alco\", \"smoke\", \"active\"]\n",
    "numeric_f = [\"age\", \"height\", \"weight\", \"ap_hi\", \"ap_lo\", \"w2dh2\"]"
   ]
  },
  {
   "cell_type": "code",
   "execution_count": 21,
   "metadata": {
    "collapsed": true
   },
   "outputs": [],
   "source": [
    "sel_c_columns = categorical_f + bin_f\n",
    "sel_n_columns = numeric_f\n",
    "sel_sp_bin_f = bin_f\n",
    "sel_sp_c_f = categorical_f\n",
    "log_f = numeric_f\n",
    "sel_sp_n_f = numeric_f"
   ]
  },
  {
   "cell_type": "code",
   "execution_count": 22,
   "metadata": {
    "collapsed": true
   },
   "outputs": [],
   "source": [
    "sp_params = {\"sp_bin_f\": sel_sp_bin_f, \"sp_c_f\": sel_sp_c_f, \"sp_n_f\":sel_sp_n_f, \"log_f\": log_f}"
   ]
  },
  {
   "cell_type": "code",
   "execution_count": null,
   "metadata": {
    "collapsed": true
   },
   "outputs": [],
   "source": []
  },
  {
   "cell_type": "code",
   "execution_count": 23,
   "metadata": {},
   "outputs": [
    {
     "data": {
      "application/vnd.jupyter.widget-view+json": {
       "model_id": "312487077dc345d096fb120fee16dae9"
      }
     },
     "metadata": {},
     "output_type": "display_data"
    },
    {
     "data": {
      "application/vnd.jupyter.widget-view+json": {
       "model_id": "591e20cfea7b40cc8194586d4734fe0a"
      }
     },
     "metadata": {},
     "output_type": "display_data"
    },
    {
     "data": {
      "application/vnd.jupyter.widget-view+json": {
       "model_id": "259db7af20374933898f23199a3a3fca"
      }
     },
     "metadata": {},
     "output_type": "display_data"
    },
    {
     "data": {
      "application/vnd.jupyter.widget-view+json": {
       "model_id": "563cda1a599a40a0ad7ed23b5a6b2fca"
      }
     },
     "metadata": {},
     "output_type": "display_data"
    },
    {
     "data": {
      "application/vnd.jupyter.widget-view+json": {
       "model_id": "c0bfe4a3a1854e65993ad98ff76045f7"
      }
     },
     "metadata": {},
     "output_type": "display_data"
    },
    {
     "data": {
      "application/vnd.jupyter.widget-view+json": {
       "model_id": "b24cc7acfe8b4d4d84a7c7199c489a02"
      }
     },
     "metadata": {},
     "output_type": "display_data"
    },
    {
     "data": {
      "application/vnd.jupyter.widget-view+json": {
       "model_id": "5fe881117c88435cbe65138fd5873426"
      }
     },
     "metadata": {},
     "output_type": "display_data"
    },
    {
     "data": {
      "application/vnd.jupyter.widget-view+json": {
       "model_id": "d65f5cde868540ba8c445b35dde94ddb"
      }
     },
     "metadata": {},
     "output_type": "display_data"
    },
    {
     "data": {
      "application/vnd.jupyter.widget-view+json": {
       "model_id": "d7e89ab979114975a48f6c8951852aff"
      }
     },
     "metadata": {},
     "output_type": "display_data"
    },
    {
     "data": {
      "application/vnd.jupyter.widget-view+json": {
       "model_id": "dfcdf5ad11334ca5bc91d2833889770a"
      }
     },
     "metadata": {},
     "output_type": "display_data"
    },
    {
     "data": {
      "application/vnd.jupyter.widget-view+json": {
       "model_id": "74be823687ce4afb8a8a352c9c45cac1"
      }
     },
     "metadata": {},
     "output_type": "display_data"
    },
    {
     "data": {
      "application/vnd.jupyter.widget-view+json": {
       "model_id": "43b08180336c4ff3b56b9ddd5670f2a1"
      }
     },
     "metadata": {},
     "output_type": "display_data"
    },
    {
     "data": {
      "application/vnd.jupyter.widget-view+json": {
       "model_id": "c1ddcb0fe94149e3a6f9977d3d70c605"
      }
     },
     "metadata": {},
     "output_type": "display_data"
    },
    {
     "data": {
      "application/vnd.jupyter.widget-view+json": {
       "model_id": "541617d35d0941688355f4860c84d5e2"
      }
     },
     "metadata": {},
     "output_type": "display_data"
    },
    {
     "data": {
      "application/vnd.jupyter.widget-view+json": {
       "model_id": "e008043c5b9d4df1a5fe8848b6649216"
      }
     },
     "metadata": {},
     "output_type": "display_data"
    },
    {
     "data": {
      "application/vnd.jupyter.widget-view+json": {
       "model_id": "361d850e38f8494a946b3a3b733ce1c6"
      }
     },
     "metadata": {},
     "output_type": "display_data"
    },
    {
     "data": {
      "application/vnd.jupyter.widget-view+json": {
       "model_id": "c8fcf621701a4c45826bdc69b4d3587e"
      }
     },
     "metadata": {},
     "output_type": "display_data"
    },
    {
     "data": {
      "application/vnd.jupyter.widget-view+json": {
       "model_id": "582f7d4075c84c769dde89230d91525a"
      }
     },
     "metadata": {},
     "output_type": "display_data"
    },
    {
     "data": {
      "application/vnd.jupyter.widget-view+json": {
       "model_id": "159ce5bea72f4e0aaa7c4d4f8352853a"
      }
     },
     "metadata": {},
     "output_type": "display_data"
    },
    {
     "data": {
      "application/vnd.jupyter.widget-view+json": {
       "model_id": "a800b11ee9e643eea25e4228a602a998"
      }
     },
     "metadata": {},
     "output_type": "display_data"
    },
    {
     "data": {
      "application/vnd.jupyter.widget-view+json": {
       "model_id": "ac89ba6072e849a1962b05d5e159a797"
      }
     },
     "metadata": {},
     "output_type": "display_data"
    },
    {
     "data": {
      "application/vnd.jupyter.widget-view+json": {
       "model_id": "fffdc298081449c2856d4b08811e4abf"
      }
     },
     "metadata": {},
     "output_type": "display_data"
    },
    {
     "data": {
      "application/vnd.jupyter.widget-view+json": {
       "model_id": "d4a917e24b134e4198ea1f5ba7fd3de4"
      }
     },
     "metadata": {},
     "output_type": "display_data"
    },
    {
     "data": {
      "application/vnd.jupyter.widget-view+json": {
       "model_id": "d8fe30c97f8a4a7d9e3a80de7febbaa4"
      }
     },
     "metadata": {},
     "output_type": "display_data"
    },
    {
     "data": {
      "application/vnd.jupyter.widget-view+json": {
       "model_id": "2b0c17c0a5ac4b62b393cd097ecb28d0"
      }
     },
     "metadata": {},
     "output_type": "display_data"
    },
    {
     "data": {
      "application/vnd.jupyter.widget-view+json": {
       "model_id": "03741b6f1dc749c19b4c2f83bdd4a5af"
      }
     },
     "metadata": {},
     "output_type": "display_data"
    },
    {
     "data": {
      "application/vnd.jupyter.widget-view+json": {
       "model_id": "2e2999bed0444811bc2234777e46f8dd"
      }
     },
     "metadata": {},
     "output_type": "display_data"
    },
    {
     "data": {
      "application/vnd.jupyter.widget-view+json": {
       "model_id": "cd88d0808b61456eb1891270dac24a2b"
      }
     },
     "metadata": {},
     "output_type": "display_data"
    },
    {
     "data": {
      "application/vnd.jupyter.widget-view+json": {
       "model_id": "fec40123968547a2a18e461dc5c97057"
      }
     },
     "metadata": {},
     "output_type": "display_data"
    },
    {
     "data": {
      "application/vnd.jupyter.widget-view+json": {
       "model_id": "6fd5ebb61df14741b81a496b826f6dfd"
      }
     },
     "metadata": {},
     "output_type": "display_data"
    },
    {
     "data": {
      "application/vnd.jupyter.widget-view+json": {
       "model_id": "a525947788234ad1ba84cbd11402db74"
      }
     },
     "metadata": {},
     "output_type": "display_data"
    },
    {
     "name": "stdout",
     "output_type": "stream",
     "text": [
      "\r"
     ]
    }
   ],
   "source": [
    "kfold = KFold(n_splits=10)\n",
    "cv = list(kfold.split(data_train))\n",
    "tt = cv_tt(data_train, \"cardio\", cv, categorical_f, bin_f + numeric_f, sp_params=sp_params)"
   ]
  },
  {
   "cell_type": "code",
   "execution_count": 24,
   "metadata": {},
   "outputs": [
    {
     "data": {
      "application/vnd.jupyter.widget-view+json": {
       "model_id": "a5c6b1f2ee6244b28365cf5600ee270f"
      }
     },
     "metadata": {},
     "output_type": "display_data"
    },
    {
     "name": "stdout",
     "output_type": "stream",
     "text": [
      "\n"
     ]
    },
    {
     "data": {
      "application/vnd.jupyter.widget-view+json": {
       "model_id": "b43e6d2a3190435fb7b08183f895655a"
      }
     },
     "metadata": {},
     "output_type": "display_data"
    },
    {
     "name": "stdout",
     "output_type": "stream",
     "text": [
      "\n"
     ]
    },
    {
     "data": {
      "application/vnd.jupyter.widget-view+json": {
       "model_id": "7edfe25349cf4182825af552e411ae00"
      }
     },
     "metadata": {},
     "output_type": "display_data"
    },
    {
     "name": "stdout",
     "output_type": "stream",
     "text": [
      "\n"
     ]
    }
   ],
   "source": [
    "data_train_f, data_test_f = create_features(data_train, data_test, categorical_f, bin_f + numeric_f, **sp_params)"
   ]
  },
  {
   "cell_type": "code",
   "execution_count": 25,
   "metadata": {},
   "outputs": [
    {
     "data": {
      "text/html": [
       "<div>\n",
       "<style>\n",
       "    .dataframe thead tr:only-child th {\n",
       "        text-align: right;\n",
       "    }\n",
       "\n",
       "    .dataframe thead th {\n",
       "        text-align: left;\n",
       "    }\n",
       "\n",
       "    .dataframe tbody tr th {\n",
       "        vertical-align: top;\n",
       "    }\n",
       "</style>\n",
       "<table border=\"1\" class=\"dataframe\">\n",
       "  <thead>\n",
       "    <tr style=\"text-align: right;\">\n",
       "      <th></th>\n",
       "      <th>cholesterol</th>\n",
       "      <th>gluc</th>\n",
       "      <th>gender</th>\n",
       "      <th>alco</th>\n",
       "      <th>smoke</th>\n",
       "      <th>active</th>\n",
       "      <th>age</th>\n",
       "      <th>height</th>\n",
       "      <th>weight</th>\n",
       "      <th>ap_hi</th>\n",
       "      <th>...</th>\n",
       "      <th>ap_hi_sum_w2dh2</th>\n",
       "      <th>ap_hi_mul_w2dh2</th>\n",
       "      <th>ap_hi_div_w2dh2</th>\n",
       "      <th>w2dh2_div_ap_hi</th>\n",
       "      <th>ap_lo_sub_w2dh2</th>\n",
       "      <th>ap_lo_abs_dif_w2dh2</th>\n",
       "      <th>ap_lo_sum_w2dh2</th>\n",
       "      <th>ap_lo_mul_w2dh2</th>\n",
       "      <th>ap_lo_div_w2dh2</th>\n",
       "      <th>w2dh2_div_ap_lo</th>\n",
       "    </tr>\n",
       "  </thead>\n",
       "  <tbody>\n",
       "    <tr>\n",
       "      <th>0</th>\n",
       "      <td>0</td>\n",
       "      <td>0</td>\n",
       "      <td>2</td>\n",
       "      <td>0</td>\n",
       "      <td>0</td>\n",
       "      <td>1</td>\n",
       "      <td>18393.0</td>\n",
       "      <td>168.0</td>\n",
       "      <td>62.0</td>\n",
       "      <td>110.0</td>\n",
       "      <td>...</td>\n",
       "      <td>110.136196</td>\n",
       "      <td>14.981576</td>\n",
       "      <td>807.658689</td>\n",
       "      <td>0.001238</td>\n",
       "      <td>79.863804</td>\n",
       "      <td>79.863804</td>\n",
       "      <td>80.136196</td>\n",
       "      <td>10.895692</td>\n",
       "      <td>587.388137</td>\n",
       "      <td>0.001702</td>\n",
       "    </tr>\n",
       "    <tr>\n",
       "      <th>1</th>\n",
       "      <td>2</td>\n",
       "      <td>0</td>\n",
       "      <td>1</td>\n",
       "      <td>0</td>\n",
       "      <td>0</td>\n",
       "      <td>1</td>\n",
       "      <td>20228.0</td>\n",
       "      <td>156.0</td>\n",
       "      <td>85.0</td>\n",
       "      <td>140.0</td>\n",
       "      <td>...</td>\n",
       "      <td>140.296885</td>\n",
       "      <td>41.563938</td>\n",
       "      <td>471.562630</td>\n",
       "      <td>0.002121</td>\n",
       "      <td>89.703115</td>\n",
       "      <td>89.703115</td>\n",
       "      <td>90.296885</td>\n",
       "      <td>26.719675</td>\n",
       "      <td>303.147405</td>\n",
       "      <td>0.003299</td>\n",
       "    </tr>\n",
       "    <tr>\n",
       "      <th>2</th>\n",
       "      <td>2</td>\n",
       "      <td>0</td>\n",
       "      <td>1</td>\n",
       "      <td>0</td>\n",
       "      <td>0</td>\n",
       "      <td>0</td>\n",
       "      <td>18857.0</td>\n",
       "      <td>165.0</td>\n",
       "      <td>64.0</td>\n",
       "      <td>130.0</td>\n",
       "      <td>...</td>\n",
       "      <td>130.150450</td>\n",
       "      <td>19.558494</td>\n",
       "      <td>864.074707</td>\n",
       "      <td>0.001157</td>\n",
       "      <td>69.849550</td>\n",
       "      <td>69.849550</td>\n",
       "      <td>70.150450</td>\n",
       "      <td>10.531497</td>\n",
       "      <td>465.270996</td>\n",
       "      <td>0.002149</td>\n",
       "    </tr>\n",
       "    <tr>\n",
       "      <th>3</th>\n",
       "      <td>0</td>\n",
       "      <td>0</td>\n",
       "      <td>2</td>\n",
       "      <td>0</td>\n",
       "      <td>0</td>\n",
       "      <td>1</td>\n",
       "      <td>17623.0</td>\n",
       "      <td>169.0</td>\n",
       "      <td>82.0</td>\n",
       "      <td>150.0</td>\n",
       "      <td>...</td>\n",
       "      <td>150.235426</td>\n",
       "      <td>35.313890</td>\n",
       "      <td>637.143070</td>\n",
       "      <td>0.001570</td>\n",
       "      <td>99.764574</td>\n",
       "      <td>99.764574</td>\n",
       "      <td>100.235426</td>\n",
       "      <td>23.542593</td>\n",
       "      <td>424.762046</td>\n",
       "      <td>0.002354</td>\n",
       "    </tr>\n",
       "    <tr>\n",
       "      <th>4</th>\n",
       "      <td>0</td>\n",
       "      <td>0</td>\n",
       "      <td>1</td>\n",
       "      <td>0</td>\n",
       "      <td>0</td>\n",
       "      <td>0</td>\n",
       "      <td>17474.0</td>\n",
       "      <td>156.0</td>\n",
       "      <td>56.0</td>\n",
       "      <td>100.0</td>\n",
       "      <td>...</td>\n",
       "      <td>100.128863</td>\n",
       "      <td>12.886259</td>\n",
       "      <td>776.020408</td>\n",
       "      <td>0.001289</td>\n",
       "      <td>59.871137</td>\n",
       "      <td>59.871137</td>\n",
       "      <td>60.128863</td>\n",
       "      <td>7.731755</td>\n",
       "      <td>465.612245</td>\n",
       "      <td>0.002148</td>\n",
       "    </tr>\n",
       "  </tbody>\n",
       "</table>\n",
       "<p>5 rows × 245 columns</p>\n",
       "</div>"
      ],
      "text/plain": [
       "   cholesterol  gluc  gender  alco  smoke  active      age  height  weight  \\\n",
       "0            0     0       2     0      0       1  18393.0   168.0    62.0   \n",
       "1            2     0       1     0      0       1  20228.0   156.0    85.0   \n",
       "2            2     0       1     0      0       0  18857.0   165.0    64.0   \n",
       "3            0     0       2     0      0       1  17623.0   169.0    82.0   \n",
       "4            0     0       1     0      0       0  17474.0   156.0    56.0   \n",
       "\n",
       "   ap_hi       ...         ap_hi_sum_w2dh2  ap_hi_mul_w2dh2  ap_hi_div_w2dh2  \\\n",
       "0  110.0       ...              110.136196        14.981576       807.658689   \n",
       "1  140.0       ...              140.296885        41.563938       471.562630   \n",
       "2  130.0       ...              130.150450        19.558494       864.074707   \n",
       "3  150.0       ...              150.235426        35.313890       637.143070   \n",
       "4  100.0       ...              100.128863        12.886259       776.020408   \n",
       "\n",
       "   w2dh2_div_ap_hi  ap_lo_sub_w2dh2  ap_lo_abs_dif_w2dh2  ap_lo_sum_w2dh2  \\\n",
       "0         0.001238        79.863804            79.863804        80.136196   \n",
       "1         0.002121        89.703115            89.703115        90.296885   \n",
       "2         0.001157        69.849550            69.849550        70.150450   \n",
       "3         0.001570        99.764574            99.764574       100.235426   \n",
       "4         0.001289        59.871137            59.871137        60.128863   \n",
       "\n",
       "   ap_lo_mul_w2dh2  ap_lo_div_w2dh2  w2dh2_div_ap_lo  \n",
       "0        10.895692       587.388137         0.001702  \n",
       "1        26.719675       303.147405         0.003299  \n",
       "2        10.531497       465.270996         0.002149  \n",
       "3        23.542593       424.762046         0.002354  \n",
       "4         7.731755       465.612245         0.002148  \n",
       "\n",
       "[5 rows x 245 columns]"
      ]
     },
     "execution_count": 25,
     "metadata": {},
     "output_type": "execute_result"
    }
   ],
   "source": [
    "data_train_f.head()"
   ]
  },
  {
   "cell_type": "code",
   "execution_count": 58,
   "metadata": {
    "collapsed": true
   },
   "outputs": [],
   "source": [
    "from sklearn.manifold import TSNE, SpectralEmbedding, MDS\n",
    "from sklearn.decomposition import TruncatedSVD"
   ]
  },
  {
   "cell_type": "code",
   "execution_count": 33,
   "metadata": {
    "collapsed": true
   },
   "outputs": [],
   "source": [
    "from time import time"
   ]
  },
  {
   "cell_type": "code",
   "execution_count": 39,
   "metadata": {},
   "outputs": [
    {
     "data": {
      "text/plain": [
       "7000"
      ]
     },
     "execution_count": 39,
     "metadata": {},
     "output_type": "execute_result"
    }
   ],
   "source": [
    "X.shape[0]"
   ]
  },
  {
   "cell_type": "code",
   "execution_count": 45,
   "metadata": {
    "collapsed": true
   },
   "outputs": [],
   "source": [
    "def plot_embedding(X, title=None):\n",
    "    x_min, x_max = np.min(X, 0), np.max(X, 0)\n",
    "    X = (X - x_min) / (x_max - x_min)\n",
    "\n",
    "    plt.figure()\n",
    "    ax = plt.subplot(111)\n",
    "    for i in range(X.shape[0]):\n",
    "        plt.text(X[i, 0], X[i, 1], str(i),\n",
    "                 color=plt.cm.Set1(y[i] * 10.),\n",
    "                 fontdict={'weight': 'bold', 'size': 3})\n",
    "\n",
    "    plt.xticks([]), plt.yticks([])\n",
    "    if title is not None:\n",
    "        plt.title(title)"
   ]
  },
  {
   "cell_type": "code",
   "execution_count": 40,
   "metadata": {
    "collapsed": true
   },
   "outputs": [],
   "source": [
    "z = X"
   ]
  },
  {
   "cell_type": "code",
   "execution_count": 37,
   "metadata": {},
   "outputs": [],
   "source": [
    "X = tt[0][\"xtest\"]\n",
    "y = tt[0][\"ytest\"]"
   ]
  },
  {
   "cell_type": "code",
   "execution_count": 57,
   "metadata": {
    "scrolled": true
   },
   "outputs": [
    {
     "name": "stderr",
     "output_type": "stream",
     "text": [
      "/Users/GoormanMcBook/anaconda/lib/python2.7/site-packages/sklearn/manifold/spectral_embedding_.py:229: UserWarning: Graph is not fully connected, spectral embedding may not work as expected.\n",
      "  warnings.warn(\"Graph is not fully connected, spectral embedding\"\n"
     ]
    },
    {
     "data": {
      "image/png": "[encoded data removed]",
      "text/plain": [
       "<matplotlib.figure.Figure at 0x126ec0050>"
      ]
     },
     "metadata": {},
     "output_type": "display_data"
    },
    {
     "name": "stdout",
     "output_type": "stream",
     "text": [
      "CPU times: user 31.9 s, sys: 3.14 s, total: 35.1 s\n",
      "Wall time: 27.7 s\n"
     ]
    }
   ],
   "source": [
    "%%time\n",
    "embedder = manifold.SpectralEmbedding(n_components=2, random_state=0,\n",
    "                                      eigen_solver=\"arpack\")\n",
    "t0 = time()\n",
    "X_se = embedder.fit_transform(X)\n",
    "\n",
    "plot_embedding(X_se,\n",
    "               \"Spectral embedding of the digits (time %.2fs)\")\n"
   ]
  },
  {
   "cell_type": "code",
   "execution_count": 62,
   "metadata": {},
   "outputs": [
    {
     "data": {
      "image/png": "[encoded data removed]",
      "text/plain": [
       "<matplotlib.figure.Figure at 0x11ab7efd0>"
      ]
     },
     "metadata": {},
     "output_type": "display_data"
    },
    {
     "name": "stdout",
     "output_type": "stream",
     "text": [
      "CPU times: user 4min 15s, sys: 1min 41s, total: 5min 57s\n",
      "Wall time: 3min 53s\n"
     ]
    }
   ],
   "source": [
    "%%time\n",
    "clf = MDS(n_components=2, n_init=1, max_iter=100)\n",
    "X_se = clf.fit_transform(X)\n",
    "\n",
    "plot_embedding(X_se,\n",
    "               \"MDS of the digits\")\n",
    "plt.show()"
   ]
  },
  {
   "cell_type": "code",
   "execution_count": null,
   "metadata": {
    "collapsed": true
   },
   "outputs": [],
   "source": []
  },
  {
   "cell_type": "code",
   "execution_count": null,
   "metadata": {
    "collapsed": true
   },
   "outputs": [],
   "source": []
  },
  {
   "cell_type": "code",
   "execution_count": 50,
   "metadata": {
    "scrolled": false
   },
   "outputs": [
    {
     "data": {
      "image/png": "[encoded data removed]",
      "text/plain": [
       "<matplotlib.figure.Figure at 0x1143c9f50>"
      ]
     },
     "metadata": {},
     "output_type": "display_data"
    }
   ],
   "source": [
    "%%time\n",
    "tsne = TSNE(n_components=2, init='pca', random_state=0)\n",
    "t0 = time()\n",
    "X_tsne = tsne.fit_transform(TruncatedSVD(n_components=50).fit_transform(X))\n",
    "\n",
    "plot_embedding(X_tsne,\n",
    "               \"t-SNE embedding of the digits\")\n",
    "\n",
    "plt.show()"
   ]
  },
  {
   "cell_type": "code",
   "execution_count": null,
   "metadata": {
    "collapsed": true
   },
   "outputs": [],
   "source": [
    "tsne = TSNE(n_components=2, init='pca', random_state=0)\n",
    "t0 = time()\n",
    "X_tsne = tsne.fit_transform(TruncatedSVD(n_components=50).fit_transform(X))\n",
    "\n",
    "plot_embedding(X_tsne,\n",
    "               \"t-SNE embedding of the digits (time %.2fs)\" %\n",
    "               (time() - t0))\n",
    "\n",
    "plt.show()"
   ]
  },
  {
   "cell_type": "code",
   "execution_count": null,
   "metadata": {
    "collapsed": true
   },
   "outputs": [],
   "source": [
    "div_columns = [i for i in data_test_f.columns if \"_div_\" in i]\n",
    "mul_columns = [i for i in data_train_f.columns if \"_mul_\" in i]\n",
    "sum_columns = [i for i in data_train_f.columns if \"_sum_\" in i]"
   ]
  },
  {
   "cell_type": "code",
   "execution_count": null,
   "metadata": {
    "collapsed": true
   },
   "outputs": [],
   "source": [
    "lr_f = [u'cholesterol', u'gluc', u'gender', u'alco', u'smoke', u'active',\n",
    "       u'age', u'height', u'weight', u'ap_hi', u'ap_lo', \"w2dh2\"] + div_columns + mul_columns"
   ]
  },
  {
   "cell_type": "code",
   "execution_count": null,
   "metadata": {
    "collapsed": true
   },
   "outputs": [],
   "source": [
    "lrclf = LogisticRegression(C = 0.000000005, n_jobs = -1, penalty = \"l1\")\n"
   ]
  },
  {
   "cell_type": "code",
   "execution_count": null,
   "metadata": {
    "collapsed": true
   },
   "outputs": [],
   "source": [
    "lrclf.fit(data_train_f[lr_f], data_train_f[\"cardio\"])"
   ]
  },
  {
   "cell_type": "code",
   "execution_count": null,
   "metadata": {
    "collapsed": true
   },
   "outputs": [],
   "source": [
    "[lr_f[k] for k in np.where(lrclf.coef_ != 0)[1]]"
   ]
  },
  {
   "cell_type": "code",
   "execution_count": null,
   "metadata": {
    "collapsed": true
   },
   "outputs": [],
   "source": [
    "[lr_f[k] for k in np.where(lrclf.coef_ != 0)[1]]"
   ]
  },
  {
   "cell_type": "code",
   "execution_count": null,
   "metadata": {
    "collapsed": true
   },
   "outputs": [],
   "source": [
    "lrclf.coef_"
   ]
  },
  {
   "cell_type": "code",
   "execution_count": null,
   "metadata": {
    "collapsed": true
   },
   "outputs": [],
   "source": [
    "div_columns = [i for i in data_test_f.columns if \"_div_\" in i]\n",
    "mul_columns = [i for i in data_train_f.columns if \"_mul_\" in i]\n",
    "sum_columns = [i for i in data_train_f.columns if \"_sum_\" in i]"
   ]
  },
  {
   "cell_type": "code",
   "execution_count": null,
   "metadata": {
    "collapsed": true
   },
   "outputs": [],
   "source": [
    "lrclf_params = {\"C\": 0.5, \"n_jobs\" : -1, \"penalty\": \"l2\"}\n",
    "lrfit_params = {}\n",
    "lr_f = [u'cholesterol', u'gluc', u'gender', u'alco', u'smoke', u'active',\n",
    "       u'age', u'height', u'weight', u'ap_hi', u'ap_lo', \"w2dh2\"] + div_columns + mul_columns\n",
    "cv_lr_1 = cv_fit_predict(LogisticRegression, tt, lr_f, lrclf_params, lrfit_params, \n",
    "                          do_scaling = True, xgbfit = False, lgbm = False)\n",
    "print \"mean_score\", np.mean([i[\"log_loss\"] for i in cv_lr_1])"
   ]
  },
  {
   "cell_type": "code",
   "execution_count": null,
   "metadata": {
    "collapsed": true
   },
   "outputs": [],
   "source": []
  },
  {
   "cell_type": "code",
   "execution_count": 63,
   "metadata": {},
   "outputs": [
    {
     "ename": "NameError",
     "evalue": "name 'div_columns' is not defined",
     "output_type": "error",
     "traceback": [
      "\u001b[0;31m---------------------------------------------------------------------------\u001b[0m",
      "\u001b[0;31mNameError\u001b[0m                                 Traceback (most recent call last)",
      "\u001b[0;32m<ipython-input-63-9b0497ce0253>\u001b[0m in \u001b[0;36m<module>\u001b[0;34m()\u001b[0m\n\u001b[1;32m      4\u001b[0m \u001b[0mxgbfit_params\u001b[0m \u001b[0;34m=\u001b[0m \u001b[0;34m{\u001b[0m\u001b[0;34m\"eval_metric\"\u001b[0m\u001b[0;34m:\u001b[0m\u001b[0;34m\"logloss\"\u001b[0m\u001b[0;34m,\u001b[0m \u001b[0;34m\"early_stopping_rounds\"\u001b[0m\u001b[0;34m:\u001b[0m\u001b[0;36m90000\u001b[0m\u001b[0;34m,\u001b[0m \u001b[0;34m\"verbose\"\u001b[0m\u001b[0;34m:\u001b[0m\u001b[0mTrue\u001b[0m\u001b[0;34m}\u001b[0m\u001b[0;34m\u001b[0m\u001b[0m\n\u001b[1;32m      5\u001b[0m xgb_f = [u'cholesterol', u'gluc', u'gender', u'alco', u'smoke', u'active',\n\u001b[0;32m----> 6\u001b[0;31m        u'age', u'height', u'weight', u'ap_hi', u'ap_lo', \"w2dh2\"] + div_columns + mul_columns + sum_columns\n\u001b[0m",
      "\u001b[0;31mNameError\u001b[0m: name 'div_columns' is not defined"
     ]
    }
   ],
   "source": [
    "xgbclf_params = {\"objective\":\"binary:logistic\", \"max_depth\":7, \"learning_rate\":0.01,\n",
    "                 \"n_estimators\": 500, \"nthread\":8, \"base_score\":0.5, \"seed\":0, \"missing\":None}\n",
    "\n",
    "xgbfit_params = {\"eval_metric\":\"logloss\", \"early_stopping_rounds\":90000, \"verbose\":True}\n",
    "xgb_f = [u'cholesterol', u'gluc', u'gender', u'alco', u'smoke', u'active',\n",
    "       u'age', u'height', u'weight', u'ap_hi', u'ap_lo', \"w2dh2\"] + div_columns + mul_columns + sum_columns"
   ]
  },
  {
   "cell_type": "code",
   "execution_count": 64,
   "metadata": {
    "scrolled": true
   },
   "outputs": [
    {
     "ename": "NameError",
     "evalue": "name 'xgb_f' is not defined",
     "output_type": "error",
     "traceback": [
      "\u001b[0;31m---------------------------------------------------------------------------\u001b[0m",
      "\u001b[0;31mNameError\u001b[0m                                 Traceback (most recent call last)",
      "\u001b[0;32m<ipython-input-64-96d9307b3b7e>\u001b[0m in \u001b[0;36m<module>\u001b[0;34m()\u001b[0m\n\u001b[0;32m----> 1\u001b[0;31m cv_xgb_1 = cv_fit_predict(XGBClassifier, [tt[0]], xgb_f, xgbclf_params, xgbfit_params, \n\u001b[0m\u001b[1;32m      2\u001b[0m                           do_scaling = False, xgbfit = True, lgbm = False)\n",
      "\u001b[0;31mNameError\u001b[0m: name 'xgb_f' is not defined"
     ]
    }
   ],
   "source": [
    "cv_xgb_1 = cv_fit_predict(XGBClassifier, [tt[0]], xgb_f, xgbclf_params, xgbfit_params, \n",
    "                          do_scaling = False, xgbfit = True, lgbm = False)"
   ]
  },
  {
   "cell_type": "code",
   "execution_count": 65,
   "metadata": {},
   "outputs": [
    {
     "ename": "NameError",
     "evalue": "name 'cv_xgb_1' is not defined",
     "output_type": "error",
     "traceback": [
      "\u001b[0;31m---------------------------------------------------------------------------\u001b[0m",
      "\u001b[0;31mNameError\u001b[0m                                 Traceback (most recent call last)",
      "\u001b[0;32m<ipython-input-65-7ce00892027f>\u001b[0m in \u001b[0;36m<module>\u001b[0;34m()\u001b[0m\n\u001b[0;32m----> 1\u001b[0;31m \u001b[0mcv_xgb_1\u001b[0m\u001b[0;34m[\u001b[0m\u001b[0;36m0\u001b[0m\u001b[0;34m]\u001b[0m\u001b[0;34m[\u001b[0m\u001b[0;34m\"f_weights\"\u001b[0m\u001b[0;34m]\u001b[0m\u001b[0;34m[\u001b[0m\u001b[0;36m0\u001b[0m\u001b[0;34m:\u001b[0m\u001b[0;36m10\u001b[0m\u001b[0;34m]\u001b[0m\u001b[0;34m\u001b[0m\u001b[0m\n\u001b[0m",
      "\u001b[0;31mNameError\u001b[0m: name 'cv_xgb_1' is not defined"
     ]
    }
   ],
   "source": [
    "cv_xgb_1[0][\"f_weights\"][0:10]"
   ]
  },
  {
   "cell_type": "code",
   "execution_count": 66,
   "metadata": {},
   "outputs": [
    {
     "name": "stdout",
     "output_type": "stream",
     "text": [
      "mean_score"
     ]
    },
    {
     "ename": "NameError",
     "evalue": "name 'cv_xgb_1' is not defined",
     "output_type": "error",
     "traceback": [
      "\u001b[0;31m---------------------------------------------------------------------------\u001b[0m",
      "\u001b[0;31mNameError\u001b[0m                                 Traceback (most recent call last)",
      "\u001b[0;32m<ipython-input-66-6d419e3f35ae>\u001b[0m in \u001b[0;36m<module>\u001b[0;34m()\u001b[0m\n\u001b[0;32m----> 1\u001b[0;31m \u001b[0;32mprint\u001b[0m \u001b[0;34m\"mean_score\"\u001b[0m\u001b[0;34m,\u001b[0m \u001b[0mnp\u001b[0m\u001b[0;34m.\u001b[0m\u001b[0mmean\u001b[0m\u001b[0;34m(\u001b[0m\u001b[0;34m[\u001b[0m\u001b[0mi\u001b[0m\u001b[0;34m[\u001b[0m\u001b[0;34m\"log_loss\"\u001b[0m\u001b[0;34m]\u001b[0m \u001b[0;32mfor\u001b[0m \u001b[0mi\u001b[0m \u001b[0;32min\u001b[0m \u001b[0mcv_xgb_1\u001b[0m\u001b[0;34m]\u001b[0m\u001b[0;34m)\u001b[0m\u001b[0;34m\u001b[0m\u001b[0m\n\u001b[0m",
      "\u001b[0;31mNameError\u001b[0m: name 'cv_xgb_1' is not defined"
     ]
    }
   ],
   "source": [
    "print \"mean_score\", np.mean([i[\"log_loss\"] for i in cv_xgb_1])"
   ]
  },
  {
   "cell_type": "code",
   "execution_count": null,
   "metadata": {
    "collapsed": true
   },
   "outputs": [],
   "source": [
    "print \"mean_score\", np.mean([i[\"log_loss\"] for i in cv_xgb_1])"
   ]
  },
  {
   "cell_type": "code",
   "execution_count": null,
   "metadata": {
    "collapsed": true
   },
   "outputs": [],
   "source": [
    "res_test_xgb = get_prediction(data_train_f, data_test_f, xgb_f, XGBClassifier, xgbclf_params, xgbfit_params, \n",
    "                              do_scaling = False, xgbfit = True, lgbm=False)"
   ]
  },
  {
   "cell_type": "code",
   "execution_count": null,
   "metadata": {
    "collapsed": true
   },
   "outputs": [],
   "source": [
    "data_train_f.shape"
   ]
  },
  {
   "cell_type": "code",
   "execution_count": null,
   "metadata": {
    "collapsed": true
   },
   "outputs": [],
   "source": []
  }
 ],
 "metadata": {
  "kernelspec": {
   "display_name": "Python [default]",
   "language": "python",
   "name": "python2"
  },
  "language_info": {
   "codemirror_mode": {
    "name": "ipython",
    "version": 2
   },
   "file_extension": ".py",
   "mimetype": "text/x-python",
   "name": "python",
   "nbconvert_exporter": "python",
   "pygments_lexer": "ipython2",
   "version": "2.7.13"
  }
 },
 "nbformat": 4,
 "nbformat_minor": 1
}
